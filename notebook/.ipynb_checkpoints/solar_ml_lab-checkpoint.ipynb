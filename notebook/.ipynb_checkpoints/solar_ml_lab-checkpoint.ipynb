{
 "cells": [
  {
   "cell_type": "markdown",
   "metadata": {},
   "source": [
    "# Machine Learning for Solar Images"
   ]
  },
  {
   "cell_type": "markdown",
   "metadata": {},
   "source": [
    "The goal of this lab activity is to use machine learning to investigate solar magnetogram images from SDO/HMI. For more information about these images, see this [link](https://www.nasa.gov/content/goddard/sdo-hmi-magnetogram/).\n",
    "\n",
    "<span style=\"color:blue\">Questions for mentees will start with blue text.</span>\n",
    "\n",
    "Before we get started, after following that link:\n",
    "* What color represents magnetic field lines pointing **away from** us?\n",
    "* What color represents magnetic field lines pointing **toward** us?"
   ]
  },
  {
   "cell_type": "code",
   "execution_count": null,
   "metadata": {},
   "outputs": [],
   "source": [
    "import matplotlib.pyplot as plt\n",
    "import matplotlib.animation as animation\n",
    "from matplotlib import rc\n",
    "from matplotlib import cm\n",
    "\n",
    "from ipywidgets import interact, interact_manual\n",
    "from datetime import datetime\n",
    "\n",
    "import numpy as np\n",
    "import pandas as pd\n",
    "import os\n",
    "import imageio\n",
    "import skimage\n",
    "\n",
    "import sklearn\n",
    "from sklearn import preprocessing\n",
    "from sklearn.cluster import KMeans\n",
    "from sklearn.cluster import DBSCAN\n",
    "from sklearn.ensemble import RandomForestClassifier\n",
    "\n",
    "%matplotlib inline"
   ]
  },
  {
   "cell_type": "markdown",
   "metadata": {},
   "source": [
    "## Set Plotting Params\n",
    "\n",
    "<span style=\"color:blue\">**MENTEES** In the cells below, try the following:</span>\n",
    "\n",
    "* Change the font size to 18 and see what happens to the sample plot when you re-run the cells.\n",
    "* Change the figure size to (4,1) and see what happens to the sample plot when you re-run the cells.\n",
    "* Find a combination of font size and plot size that feel comfortable for you to read, then continue."
   ]
  },
  {
   "cell_type": "code",
   "execution_count": null,
   "metadata": {},
   "outputs": [],
   "source": [
    "# Change font size for plots -- my rec for this lab is 15\n",
    "plt.rcParams.update({'font.size': 15})\n",
    "\n",
    "# Change plot size (width, height) -- my rec for this lab is (10,5)\n",
    "plt.rcParams[\"figure.figsize\"] = (10,5)"
   ]
  },
  {
   "cell_type": "code",
   "execution_count": null,
   "metadata": {},
   "outputs": [],
   "source": [
    "x_plot = np.arange(100)/10\n",
    "y_plot = np.sin(x_plot)\n",
    "\n",
    "plt.plot(x_plot, y_plot)\n",
    "plt.title('My Test Plot')\n",
    "plt.xlabel('x')\n",
    "plt.ylabel('sin(x)')"
   ]
  },
  {
   "cell_type": "markdown",
   "metadata": {},
   "source": [
    "## Load the Data\n",
    "\n",
    "Always the first step. \n",
    "\n",
    "<span style=\"color:blue\">**MENTEES** Based on the cells below, answer the following questions:</span>\n",
    "\n",
    "* What is the name of the data directory?\n",
    "* How many files are in the data directory?\n",
    "* What is the name of the **first** file in the data directory? Hint: Python starts at index 0.\n",
    "* What is the name of the **third** file in the data directory?\n",
    "* What is the name of the **last** file in the data directory?"
   ]
  },
  {
   "cell_type": "code",
   "execution_count": null,
   "metadata": {},
   "outputs": [],
   "source": [
    "image_path = '../data' # Data directory\n",
    "image_list = [os.path.join(image_path, f) for f in os.listdir(image_path)] # Creates a list of images\n",
    "\n",
    "# We are sorting this list so the files are in chronological order\n",
    "image_list.sort()\n",
    "\n",
    "print(f'Number of images in directory: {len(image_list)}') # Print the number of images"
   ]
  },
  {
   "cell_type": "code",
   "execution_count": null,
   "metadata": {},
   "outputs": [],
   "source": [
    "# Print the file path for a given index (ind)\n",
    "ind = 10 # Set the index\n",
    "print(f'Path for index {ind}: {image_list[ind]}')"
   ]
  },
  {
   "cell_type": "markdown",
   "metadata": {},
   "source": [
    "## Display and Explore the Images\n",
    "\n",
    "You always want to look at your data first to see what you're working with.\n",
    "\n",
    "**The next cell is interactive.** Select an index from the dropdown menu to see an image.\n",
    "\n",
    "<span style=\"color:blue\">**MENTEES** Based on the cells below, answer the following questions:</span>\n",
    "\n",
    "* What is the date range for these images?\n",
    "* As you look through these images, what are some of your observations?"
   ]
  },
  {
   "cell_type": "code",
   "execution_count": null,
   "metadata": {},
   "outputs": [],
   "source": [
    "# Interactively show the image files\n",
    "@interact\n",
    "def show_images(index = np.arange(len(image_list))):\n",
    "    image_file = image_list[index]\n",
    "    print(f'Index number: {index}')\n",
    "    print(f'File name: {image_file}')\n",
    "    print(f'Date (US Standard): {image_file[12:14]}/{image_file[14:16]}/{image_file[8:12]}')\n",
    "    im = imageio.imread(image_file)\n",
    "    plt.imshow(im, cmap=plt.cm.gray)"
   ]
  },
  {
   "cell_type": "markdown",
   "metadata": {},
   "source": [
    "### Make a video for a subset of images\n",
    "\n",
    "<span style=\"color:blue\">**MENTEES** Based on the cells below, answer the following questions:</span>\n",
    "\n",
    "* What do you notice about the movement of the bright and dark spots across the Sun?"
   ]
  },
  {
   "cell_type": "code",
   "execution_count": null,
   "metadata": {},
   "outputs": [],
   "source": [
    "start_ind = 0 # index for start of video\n",
    "stop_ind = 100 # index for end of video\n",
    "\n",
    "# Make an array of image data\n",
    "im_array = [imageio.imread(image_list[i]) for i in np.arange(len(image_list))]\n",
    "\n",
    "frames = [] # For storing the generated images\n",
    "\n",
    "fig = plt.figure()\n",
    "\n",
    "# Make frames from the image data\n",
    "for i in np.arange(start_ind, stop_ind):\n",
    "    frames.append([plt.imshow(im_array[i], cmap='gray', animated=True)])\n",
    "\n",
    "# Create the animation\n",
    "ani = animation.ArtistAnimation(fig, frames, interval=50, blit=True,\n",
    "                                repeat_delay=1000)\n",
    "\n",
    "# Avoid double-plotting\n",
    "plt.close(ani._fig)\n",
    "\n",
    "# Display the animation\n",
    "rc('animation', html='html5')\n",
    "\n",
    "ani"
   ]
  },
  {
   "cell_type": "code",
   "execution_count": null,
   "metadata": {},
   "outputs": [],
   "source": [
    "# Change font size for plots -- my rec for this lab is 15\n",
    "plt.rcParams.update({'font.size': 15})\n",
    "\n",
    "# Change plot size (width, height) -- my rec for this lab is (10,5)\n",
    "plt.rcParams[\"figure.figsize\"] = (10,4)"
   ]
  },
  {
   "cell_type": "markdown",
   "metadata": {},
   "source": [
    "Choose one of the images. Insert an index value in the first line of the next cell. For example, for index 100 you would enter: image_file = image_list[100]"
   ]
  },
  {
   "cell_type": "code",
   "execution_count": null,
   "metadata": {},
   "outputs": [],
   "source": [
    "image_file = image_list[547]\n",
    "print(f'Selected image file: {image_file}')\n",
    "im = imageio.imread(image_file)"
   ]
  },
  {
   "cell_type": "markdown",
   "metadata": {},
   "source": [
    "## Crop the Image\n",
    "\n",
    "For the sake of time, rather than playing around with masking the background, we are going to slice the image to show the middle part.\n",
    "\n",
    "<span style=\"color:blue\">**MENTEES** Based on the cells below, answer the following questions:</span>\n",
    "\n",
    "**BEFORE** you proceed, answer:\n",
    "* If you were to break up this image based on the pixel values (brightness), how many clusters/categories would you create?\n",
    "* What would those clusters represent?"
   ]
  },
  {
   "cell_type": "code",
   "execution_count": null,
   "metadata": {},
   "outputs": [],
   "source": [
    "pixel_crop = 85\n",
    "\n",
    "im_crop = im[pixel_crop:-pixel_crop,pixel_crop:-pixel_crop] # Crop the image\n",
    "\n",
    "plt.imshow(im_crop, cmap=plt.cm.gray) # Show cropped image"
   ]
  },
  {
   "cell_type": "markdown",
   "metadata": {},
   "source": [
    "## Flatten the Image\n",
    "\n",
    "When we're working with sklearn, the image array needs to be flattened."
   ]
  },
  {
   "cell_type": "code",
   "execution_count": null,
   "metadata": {},
   "outputs": [],
   "source": [
    "dim_flat = im_crop.shape[0]*im_crop.shape[1]\n",
    "im_reshaped = im_crop.reshape(dim_flat, -1)\n",
    "print(f'Shape of flattened array: {im_reshaped.shape}')"
   ]
  },
  {
   "cell_type": "markdown",
   "metadata": {},
   "source": [
    "## Data Exploration\n",
    "\n",
    "<span style=\"color:blue\">**MENTEES** Based on the cells below, answer the following questions:</span>\n",
    "\n",
    "* Based on the pixel value histogram, approximately what is the median pixel value for this image?\n",
    "* What color do you think this represents on the image?"
   ]
  },
  {
   "cell_type": "code",
   "execution_count": null,
   "metadata": {},
   "outputs": [],
   "source": [
    "plt.hist(im_reshaped)\n",
    "plt.xlabel('Pixel Value')\n",
    "plt.ylabel('Number of Pixels')\n",
    "plt.show()"
   ]
  },
  {
   "cell_type": "markdown",
   "metadata": {},
   "source": [
    "## Clustering\n",
    "\n",
    "Now we're going to do some unsupervised learning (clustering). A review of different types of clustering models in sklearn can be found [here](https://scikit-learn.org/stable/auto_examples/cluster/plot_cluster_comparison.html#sphx-glr-auto-examples-cluster-plot-cluster-comparison-py).\n",
    "\n",
    "We are going to use k-means clustering because it's fast and simple. See this [page](https://scikit-learn.org/stable/modules/generated/sklearn.cluster.KMeans.html#sklearn.cluster.KMeans) on k-mean clustering for more info.\n",
    "\n",
    "Remember earlier you decided on a logical number of clusters/categories to use. That will be your *n* value in the cell below.\n",
    "\n",
    "<span style=\"color:blue\">**MENTEES** Based on the cells below, answer the following questions:</span>\n",
    "\n",
    "* What happens if you increase or decrease the number of clusters?"
   ]
  },
  {
   "cell_type": "code",
   "execution_count": null,
   "metadata": {},
   "outputs": [],
   "source": [
    "n = 3\n",
    "\n",
    "# Define clustering\n",
    "clustering = KMeans(n_clusters=n, random_state=0).fit(im_reshaped)\n",
    "\n",
    "# Get the label values\n",
    "labels = clustering.labels_\n",
    "\n",
    "# Reshape the labels to match the cropped image dimensions\n",
    "labels_orig = labels.reshape((im_crop.shape[0], im_crop.shape[1]))\n",
    "\n",
    "# Show a side by side plot of the cropped image and the labels from kmeans\n",
    "fig = plt.figure()\n",
    "ax1 = fig.add_subplot(1,2,1)\n",
    "im_plot = ax1.imshow(im_crop, cmap=plt.cm.gray) # Cropped solar image\n",
    "fig.colorbar(im_plot, ax=ax1)\n",
    "ax2 = fig.add_subplot(1,2,2)\n",
    "label_plot = ax2.imshow(labels_orig) # Labels\n",
    "fig.colorbar(label_plot, ax=ax2)\n",
    "\n",
    "# This is for use later\n",
    "x_train = im_reshaped\n",
    "y_train = labels"
   ]
  },
  {
   "cell_type": "markdown",
   "metadata": {},
   "source": [
    "<span style=\"color:blue\">**MENTEES** Based on the cell below, answer the following questions:</span>\n",
    "\n",
    "* What do you think Label 0, 1, and 2 represent in the image (background, white spots, black spots)?\n",
    "    * Label 0:\n",
    "    * Label 1:\n",
    "    * Label 2:\n",
    "* What is the color for each label in the right plot?"
   ]
  },
  {
   "cell_type": "code",
   "execution_count": null,
   "metadata": {},
   "outputs": [],
   "source": [
    "print(f'Label 0 mean pixel value: {im_crop[np.where(labels_orig == 0)].mean()}')\n",
    "print(f'Label 1 mean pixel value: {im_crop[np.where(labels_orig == 1)].mean()}')\n",
    "print(f'Label 2 mean pixel value: {im_crop[np.where(labels_orig == 2)].mean()}')"
   ]
  },
  {
   "cell_type": "markdown",
   "metadata": {},
   "source": [
    "## Sub-cluster based on coordinates\n",
    "\n",
    "Now that we have clusters/categories based on the pixel value, let's see if we can break them up further by image coordinates (where they are located on the image)."
   ]
  },
  {
   "cell_type": "code",
   "execution_count": null,
   "metadata": {},
   "outputs": [],
   "source": [
    "# Create a dataframe in pandas. This is just an easy way to work with data.\n",
    "df_image = pd.DataFrame(im_reshaped, columns=['value'])"
   ]
  },
  {
   "cell_type": "code",
   "execution_count": null,
   "metadata": {},
   "outputs": [],
   "source": [
    "# Create an index array for row and column values\n",
    "index_array = np.indices((im_crop.shape[0], im_crop.shape[1]))\n",
    "row_array = index_array[0]\n",
    "col_array = index_array[1]"
   ]
  },
  {
   "cell_type": "code",
   "execution_count": null,
   "metadata": {},
   "outputs": [],
   "source": [
    "# Flatten\n",
    "df_image['row'] = row_array.reshape(dim_flat)\n",
    "df_image['col'] = col_array.reshape(dim_flat)"
   ]
  },
  {
   "cell_type": "code",
   "execution_count": null,
   "metadata": {},
   "outputs": [],
   "source": [
    "# Create a column for the label data\n",
    "df_image['val_label'] = labels"
   ]
  },
  {
   "cell_type": "code",
   "execution_count": null,
   "metadata": {},
   "outputs": [],
   "source": [
    "# Filter so we only have the chosen label\n",
    "df_input = df_image[df_image['val_label'] == 1].drop(['val_label', 'value'], axis=1)"
   ]
  },
  {
   "cell_type": "code",
   "execution_count": null,
   "metadata": {},
   "outputs": [],
   "source": [
    "# Convert to a numpy array\n",
    "x_input = df_input.to_numpy()"
   ]
  },
  {
   "cell_type": "code",
   "execution_count": null,
   "metadata": {},
   "outputs": [],
   "source": [
    "# Scale the data using sklearn pre-processing\n",
    "scaler = preprocessing.StandardScaler().fit(x_input)\n",
    "im_scaled = scaler.transform(x_input)"
   ]
  },
  {
   "cell_type": "markdown",
   "metadata": {},
   "source": [
    "<span style=\"color:blue\">**MENTEES** Based on the cell below, answer the following questions:</span>\n",
    "\n",
    "* Based on the spatial distribution of these points, approximately how many clusters do you think would be ideal?\n",
    "* Can you think of a way to cut out the \"noisy\" data?\n",
    "* Let's go back to that [page](https://scikit-learn.org/stable/auto_examples/cluster/plot_cluster_comparison.html#sphx-glr-auto-examples-cluster-plot-cluster-comparison-py) on sklearn clustering. Do you think any of these types of clustering are a good match for this application?"
   ]
  },
  {
   "cell_type": "code",
   "execution_count": null,
   "metadata": {},
   "outputs": [],
   "source": [
    "# Show a side by side plot of the cropped image and the label 2 data from kmeans\n",
    "fig = plt.figure()\n",
    "ax1 = fig.add_subplot(1,2,1)\n",
    "im_plot = ax1.imshow(im_crop, cmap=plt.cm.gray) # Cropped solar image\n",
    "fig.colorbar(im_plot, ax=ax1)\n",
    "ax2 = fig.add_subplot(1,2,2)\n",
    "label_plot = ax2.scatter(df_input['col'], df_input['row'], s=0.1) # Labels\n",
    "ax2.set_ylim([341,0])\n",
    "ax2.set_xlim([0,341])\n",
    "fig.colorbar(label_plot, ax=ax2)"
   ]
  },
  {
   "cell_type": "markdown",
   "metadata": {},
   "source": [
    "This is very similar to the clustering cells above, but put into a function."
   ]
  },
  {
   "cell_type": "code",
   "execution_count": null,
   "metadata": {},
   "outputs": [],
   "source": [
    "def cluster_creation(eps, min_samples, x_input):\n",
    "    # Define clustering\n",
    "    clustering = DBSCAN(eps=eps, min_samples=min_samples).fit(x_input)\n",
    "    \n",
    "    # Get the label values\n",
    "    labels = clustering.labels_\n",
    "\n",
    "    # Show a side by side plot of the cropped image and the labels from kmeans\n",
    "    fig = plt.figure()\n",
    "    ax1 = fig.add_subplot(1,2,1)\n",
    "    im_plot = ax1.imshow(im_crop, cmap=plt.cm.gray) # Cropped solar image\n",
    "    fig.colorbar(im_plot, ax=ax1)\n",
    "    ax2 = fig.add_subplot(1,2,2)\n",
    "    label_plot = ax2.scatter(df_input['col'], df_input['row'], c=labels, s=0.1) # Labels\n",
    "    ax2.set_ylim([341,0])\n",
    "    ax2.set_xlim([0,341])\n",
    "    fig.colorbar(label_plot, ax=ax2)"
   ]
  },
  {
   "cell_type": "markdown",
   "metadata": {},
   "source": [
    "<span style=\"color:blue\">**MENTEES** **BEFORE** running the cell below, answer these questions:</span>\n",
    "\n",
    "* See this [page](https://scikit-learn.org/stable/modules/generated/sklearn.cluster.DBSCAN.html) about DBSCAN.\n",
    "* Under the \"Attributes\" section, what does it say a label of -1 means?\n",
    "* What are the main parameters that you need to set and what are their default values?\n",
    "* Try changing these parameters below, how do the clusters change?"
   ]
  },
  {
   "cell_type": "code",
   "execution_count": null,
   "metadata": {},
   "outputs": [],
   "source": [
    "eps = 20\n",
    "min_samples = 100\n",
    "cluster_creation(eps, min_samples, x_input)"
   ]
  },
  {
   "cell_type": "markdown",
   "metadata": {},
   "source": [
    "## Supervised Learning\n",
    "\n",
    "Now let's use the labels we created for our individual image (0, 1, 2) and see if they can be applied to a new image succesfully.\n",
    "\n",
    "See this [page](https://scikit-learn.org/stable/modules/generated/sklearn.ensemble.RandomForestClassifier.html#sklearn.ensemble.RandomForestClassifier) about Random Forest Classifiers."
   ]
  },
  {
   "cell_type": "markdown",
   "metadata": {},
   "source": [
    "This is a copy of the cells further up in the notebook, but this time we're creating a function to do the pre-processing steps on a new image."
   ]
  },
  {
   "cell_type": "code",
   "execution_count": null,
   "metadata": {},
   "outputs": [],
   "source": [
    "def pre_process(ind):\n",
    "    image_file = image_list[ind]\n",
    "    print(f'Selected image file: {image_file}')\n",
    "    im = imageio.imread(image_file)\n",
    "\n",
    "    pixel_crop = 85\n",
    "    im_crop = im[pixel_crop:-pixel_crop,pixel_crop:-pixel_crop] # Crop the image\n",
    "\n",
    "    dim_flat = im_crop.shape[0]*im_crop.shape[1]\n",
    "    im_reshaped = im_crop.reshape(dim_flat, -1)\n",
    "    print(f'Shape of flattened array: {im_reshaped.shape}')\n",
    "    \n",
    "    return im_crop, im_reshaped"
   ]
  },
  {
   "cell_type": "markdown",
   "metadata": {},
   "source": [
    "<span style=\"color:blue\">**MENTEES** **BEFORE** running the cell below, answer these questions:</span>\n",
    "* Do you think this is going to work?\n",
    "* Why or why not?"
   ]
  },
  {
   "cell_type": "code",
   "execution_count": null,
   "metadata": {},
   "outputs": [],
   "source": [
    "ind_new = 505\n",
    "\n",
    "# Fit the classifier\n",
    "clf = RandomForestClassifier(max_depth=2, random_state=0)\n",
    "clf.fit(x_train, y_train)\n",
    "\n",
    "# Get the data for the new index defined at the top of the cell\n",
    "x_crop, x_test = pre_process(ind_new)\n",
    "\n",
    "# Predict the categories\n",
    "y_test = clf.predict(x_test)\n",
    "\n",
    "# Reshape the labels to match the cropped image dimensions\n",
    "y_orig = y_test.reshape((x_crop.shape[0], x_crop.shape[1]))\n",
    "\n",
    "# Show a side by side plot of the cropped image and the labels from kmeans\n",
    "fig = plt.figure()\n",
    "ax1 = fig.add_subplot(1,2,1)\n",
    "im_plot = ax1.imshow(x_crop, cmap=plt.cm.gray) # Cropped solar image\n",
    "fig.colorbar(im_plot, ax=ax1)\n",
    "ax2 = fig.add_subplot(1,2,2)\n",
    "label_plot = ax2.imshow(y_orig) # Labels\n",
    "fig.colorbar(label_plot, ax=ax2)"
   ]
  },
  {
   "cell_type": "markdown",
   "metadata": {},
   "source": [
    "## Final Reflections\n",
    "\n",
    "<span style=\"color:blue\">Put your final thoughts here!</span>\n",
    "\n",
    "* What is something you learned today that you didn't know before?\n",
    "* What is something you'd like to try in the future?\n",
    "* How well were you able to use clustering for categorizing the \"brightness\" of pixels?\n",
    "* How well were you able to use clustering for breaking groups of pixels into categories by region?\n",
    "* What information would you need to add to be able to track groups of pixels across **time**?\n",
    "    * What about the movement of the Sun might complicate that process, and how could you account for that complication (if at all)?"
   ]
  },
  {
   "cell_type": "code",
   "execution_count": null,
   "metadata": {},
   "outputs": [],
   "source": []
  }
 ],
 "metadata": {
  "kernelspec": {
   "display_name": "Python 3",
   "language": "python",
   "name": "python3"
  },
  "language_info": {
   "codemirror_mode": {
    "name": "ipython",
    "version": 3
   },
   "file_extension": ".py",
   "mimetype": "text/x-python",
   "name": "python",
   "nbconvert_exporter": "python",
   "pygments_lexer": "ipython3",
   "version": "3.6.6"
  }
 },
 "nbformat": 4,
 "nbformat_minor": 2
}
